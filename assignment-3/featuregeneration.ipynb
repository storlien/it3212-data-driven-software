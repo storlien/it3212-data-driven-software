{
 "cells": [
  {
   "cell_type": "code",
   "execution_count": 2,
   "metadata": {},
   "outputs": [],
   "source": [
    "import pandas as pd\n",
    "import numpy as np\n",
    "\n",
    "df_final = pd.read_csv('df_combined.csv')"
   ]
  },
  {
   "cell_type": "markdown",
   "metadata": {},
   "source": [
    "### Feature generation"
   ]
  },
  {
   "cell_type": "code",
   "execution_count": 3,
   "metadata": {},
   "outputs": [
    {
     "name": "stdout",
     "output_type": "stream",
     "text": [
      "datetime64[ns, UTC]\n"
     ]
    }
   ],
   "source": [
    "df_final['time'] = pd.to_datetime(df_final.index, utc=True)\n",
    "\n",
    "print(df_final['time'].dtype)\n"
   ]
  },
  {
   "cell_type": "code",
   "execution_count": 4,
   "metadata": {},
   "outputs": [],
   "source": [
    "# df_final.set_index(\"time\", inplace=True)\n",
    "\n",
    "df_final['hour'] = df_final['time'].dt.hour\n",
    "df_final['weekday'] = df_final['time'].dt.weekday\n",
    "df_final['month'] = df_final['time'].dt.month "
   ]
  },
  {
   "cell_type": "code",
   "execution_count": 5,
   "metadata": {},
   "outputs": [
    {
     "name": "stdout",
     "output_type": "stream",
     "text": [
      "Index(['time', 'generation biomass', 'generation fossil brown coal/lignite',\n",
      "       'generation fossil gas', 'generation fossil hard coal',\n",
      "       'generation fossil oil', 'generation hydro pumped storage consumption',\n",
      "       'generation hydro run-of-river and poundage',\n",
      "       'generation hydro water reservoir', 'generation nuclear',\n",
      "       'generation other', 'generation other renewable', 'generation solar',\n",
      "       'generation waste', 'generation wind onshore', 'total load actual',\n",
      "       'price day ahead', 'price actual', 'temp_0', 'temp_min_0', 'temp_max_0',\n",
      "       'pressure_0', 'humidity_0', 'wind_speed_0', 'wind_deg_0', 'rain_1h_0',\n",
      "       'clouds_all_0', 'weather_id_0', 'temp_1', 'temp_min_1', 'temp_max_1',\n",
      "       'pressure_1', 'humidity_1', 'wind_speed_1', 'wind_deg_1', 'rain_1h_1',\n",
      "       'snow_3h_1', 'clouds_all_1', 'weather_id_1', 'temp_2', 'temp_min_2',\n",
      "       'temp_max_2', 'pressure_2', 'humidity_2', 'wind_speed_2', 'wind_deg_2',\n",
      "       'rain_1h_2', 'snow_3h_2', 'clouds_all_2', 'weather_id_2', 'temp_3',\n",
      "       'temp_min_3', 'temp_max_3', 'pressure_3', 'humidity_3', 'wind_speed_3',\n",
      "       'wind_deg_3', 'rain_1h_3', 'clouds_all_3', 'weather_id_3', 'temp_4',\n",
      "       'temp_min_4', 'temp_max_4', 'pressure_4', 'humidity_4', 'wind_speed_4',\n",
      "       'wind_deg_4', 'rain_1h_4', 'snow_3h_4', 'clouds_all_4', 'weather_id_4',\n",
      "       'hour', 'weekday', 'month'],\n",
      "      dtype='object')\n"
     ]
    }
   ],
   "source": [
    "# # Ensure 'hour' and 'weekday' columns are created\n",
    "# df_final['hour'] = df_final['time'].dt.hour\n",
    "# df_final['weekday'] = df_final['time'].dt.weekday\n",
    "\n",
    "# Define conditions and values for 'business hour' and 'weekday_category' in one go\n",
    "\n",
    "# Business hour conditions and values\n",
    "business_conditions = [\n",
    "    ((df_final['hour'] > 8) & (df_final['hour'] < 14)) | ((df_final['hour'] > 17) & (df_final['hour'] < 21)),\n",
    "    (df_final['hour'] >= 14) & (df_final['hour'] <= 17)\n",
    "]\n",
    "business_values = [2, 1]\n",
    "\n",
    "# Weekday category conditions and values\n",
    "weekday_conditions = [\n",
    "    (df_final['weekday'] == 6),  # Sunday\n",
    "    (df_final['weekday'] == 5)   # Saturday\n",
    "]\n",
    "weekday_values = [2, 1]\n",
    "\n",
    "print(df_final.columns)\n",
    "\n",
    "# Assign 'business hour' and 'weekday_category' using np.select\n",
    "df_final['business hour'] = np.select(business_conditions, business_values, default=0)\n",
    "df_final['weekday_category'] = np.select(weekday_conditions, weekday_values, default=0)\n"
   ]
  },
  {
   "cell_type": "code",
   "execution_count": 6,
   "metadata": {},
   "outputs": [],
   "source": [
    "# Define the list of cities\n",
    "# cities = ['Barcelona', 'Bilbao', 'Madrid', 'Seville', 'Valencia']\n",
    "\n",
    "population =  5179243 + 987000 + 6155116 + 1305342 + 1645342\n",
    "\n",
    "weights = [\n",
    "5179243 / population,\n",
    "987000 / population,\n",
    "6155116 / population,\n",
    "1305342 / population,\n",
    "1645342 / population\n",
    "]\n",
    "# Calculate the temperature range for each city in a vectorized way\n",
    "for label in range(5):\n",
    "    # Compute the absolute difference and store it in a new column\n",
    "    df_final['temp_range_{}'.format(label)] = abs(df_final['temp_max_{}'.format(label)] - df_final['temp_min_{}'.format(label)])\n",
    "\n",
    "\n",
    "cities_weights = {label: weight for label, weight in enumerate(weights)}\n",
    "\n",
    "df_final['temp_weighted'] = sum(df_final[f'temp_{label}'] * weight for label, weight in enumerate(weights))\n",
    "\n"
   ]
  },
  {
   "cell_type": "markdown",
   "metadata": {},
   "source": [
    "### Feature selection"
   ]
  },
  {
   "cell_type": "code",
   "execution_count": 7,
   "metadata": {},
   "outputs": [],
   "source": [
    "from sklearn.preprocessing import LabelEncoder, StandardScaler, MinMaxScaler\n",
    "import matplotlib.pyplot as plt\n",
    "from sklearn.decomposition import PCA"
   ]
  },
  {
   "cell_type": "code",
   "execution_count": 8,
   "metadata": {},
   "outputs": [],
   "source": [
    "def multivariate_data(dataset, target, start_index, end_index, \n",
    "                      history_size, target_size, step, single_step=False):\n",
    "    data = []\n",
    "    labels = []\n",
    "\n",
    "    start_index = start_index + history_size\n",
    "    if end_index is None:\n",
    "        end_index = len(dataset) - target_size\n",
    "\n",
    "\n",
    "    for i in range(start_index, end_index):\n",
    "        indices = range(i - history_size, i, step)\n",
    "        data.append(dataset[indices])\n",
    "\n",
    "        if single_step:\n",
    "            labels.append(target[i + target_size])\n",
    "        else:\n",
    "            labels.append(target[i:i + target_size])\n",
    "\n",
    "    return np.array(data), np.array(labels)"
   ]
  },
  {
   "cell_type": "code",
   "execution_count": 9,
   "metadata": {},
   "outputs": [
    {
     "name": "stdout",
     "output_type": "stream",
     "text": [
      "Train end index: 24544\n",
      "Validation end index: 28050\n",
      "Test end index: 31556\n",
      "Transfer learning start index: 31556\n",
      "Dataset size: 35064\n"
     ]
    }
   ],
   "source": [
    "# Assume df_final is already sorted by 'time' if needed\n",
    "ds_size = len(df_final)\n",
    "\n",
    "# Define split ratios\n",
    "train_ratio = 0.7         # 70% for training\n",
    "cv_test_ratio = 0.2       # 20% for validation + test (10% each)\n",
    "transfer_ratio = 0.1      # 10% for transfer learning\n",
    "\n",
    "# Calculate indices for each split\n",
    "train_end_idx = int(train_ratio * ds_size)                    # 70% of the dataset\n",
    "cv_test_start_idx = train_end_idx                             # Start of the 20% section (validation + test)\n",
    "cv_test_end_idx = cv_test_start_idx + int(cv_test_ratio * ds_size)  # End of validation + test section (90% of the dataset)\n",
    "transfer_start_idx = cv_test_end_idx                          # Start of the last 10% of the dataset\n",
    "\n",
    "# Split the 20% section into validation and test (each 10%)\n",
    "cv_end_idx = cv_test_start_idx + int(0.5 * cv_test_ratio * ds_size)  # First 10% of the 20% section for validation\n",
    "test_end_idx = cv_test_end_idx                                         # Remaining 10% of the 20% section for test\n",
    "\n",
    "# Print indices for verification\n",
    "print(\"Train end index:\", train_end_idx)\n",
    "print(\"Validation end index:\", cv_end_idx)\n",
    "print(\"Test end index:\", test_end_idx)\n",
    "print(\"Transfer learning start index:\", transfer_start_idx)\n",
    "print(\"Dataset size:\", ds_size)"
   ]
  },
  {
   "cell_type": "code",
   "execution_count": 10,
   "metadata": {},
   "outputs": [
    {
     "name": "stdout",
     "output_type": "stream",
     "text": [
      "Columns in df_final after preprocessing: Index(['time', 'generation biomass', 'generation fossil brown coal/lignite',\n",
      "       'generation fossil gas', 'generation fossil hard coal',\n",
      "       'generation fossil oil', 'generation hydro pumped storage consumption',\n",
      "       'generation hydro run-of-river and poundage',\n",
      "       'generation hydro water reservoir', 'generation nuclear',\n",
      "       'generation other', 'generation other renewable', 'generation solar',\n",
      "       'generation waste', 'generation wind onshore', 'total load actual',\n",
      "       'price day ahead', 'price actual', 'temp_0', 'temp_min_0', 'temp_max_0',\n",
      "       'pressure_0', 'humidity_0', 'wind_speed_0', 'wind_deg_0', 'rain_1h_0',\n",
      "       'clouds_all_0', 'weather_id_0', 'temp_1', 'temp_min_1', 'temp_max_1',\n",
      "       'pressure_1', 'humidity_1', 'wind_speed_1', 'wind_deg_1', 'rain_1h_1',\n",
      "       'snow_3h_1', 'clouds_all_1', 'weather_id_1', 'temp_2', 'temp_min_2',\n",
      "       'temp_max_2', 'pressure_2', 'humidity_2', 'wind_speed_2', 'wind_deg_2',\n",
      "       'rain_1h_2', 'snow_3h_2', 'clouds_all_2', 'weather_id_2', 'temp_3',\n",
      "       'temp_min_3', 'temp_max_3', 'pressure_3', 'humidity_3', 'wind_speed_3',\n",
      "       'wind_deg_3', 'rain_1h_3', 'clouds_all_3', 'weather_id_3', 'temp_4',\n",
      "       'temp_min_4', 'temp_max_4', 'pressure_4', 'humidity_4', 'wind_speed_4',\n",
      "       'wind_deg_4', 'rain_1h_4', 'snow_3h_4', 'clouds_all_4', 'weather_id_4',\n",
      "       'hour', 'weekday', 'month', 'business hour', 'weekday_category',\n",
      "       'temp_range_0', 'temp_range_1', 'temp_range_2', 'temp_range_3',\n",
      "       'temp_range_4', 'temp_weighted'],\n",
      "      dtype='object')\n"
     ]
    }
   ],
   "source": [
    "from sklearn.preprocessing import MinMaxScaler\n",
    "import pandas as pd\n",
    "\n",
    "# Drop or convert any non-numeric columns in df_final\n",
    "# Assuming 'time' is the column causing the issue, you may drop it here\n",
    "X = df_final.drop(columns=['price actual', 'time'], errors='ignore').values  # Drop 'time' if it exists\n",
    "y = df_final['price actual'].values\n",
    "\n",
    "# Reshape y for scaling\n",
    "y = y.reshape(-1, 1)\n",
    "\n",
    "# Initialize scalers\n",
    "scaler_X = MinMaxScaler(feature_range=(0, 1))\n",
    "scaler_y = MinMaxScaler(feature_range=(0, 1))\n",
    "\n",
    "# Fit scalers on the training set\n",
    "scaler_X.fit(X[:train_end_idx])\n",
    "scaler_y.fit(y[:train_end_idx])\n",
    "\n",
    "# Confirm the columns in df_final after dropping any non-numeric columns\n",
    "print(\"Columns in df_final after preprocessing:\", df_final.columns)\n"
   ]
  },
  {
   "cell_type": "code",
   "execution_count": 11,
   "metadata": {},
   "outputs": [],
   "source": [
    "X_norm = scaler_X.transform(X)\n",
    "y_norm = scaler_y.transform(y)"
   ]
  },
  {
   "cell_type": "code",
   "execution_count": 12,
   "metadata": {},
   "outputs": [
    {
     "name": "stdout",
     "output_type": "stream",
     "text": [
      "(35064, 80)\n"
     ]
    },
    {
     "data": {
      "text/plain": [
       "(24544, 80)"
      ]
     },
     "execution_count": 12,
     "metadata": {},
     "output_type": "execute_result"
    }
   ],
   "source": [
    "pca = PCA()\n",
    "print(X_norm.shape)\n",
    "X_pca = pca.fit_transform(X_norm[:train_end_idx])\n",
    "X_pca.shape"
   ]
  },
  {
   "cell_type": "code",
   "execution_count": 13,
   "metadata": {},
   "outputs": [
    {
     "data": {
      "image/png": "[encoded data removed]",
      "text/plain": [
       "<Figure size 1000x600 with 1 Axes>"
      ]
     },
     "metadata": {},
     "output_type": "display_data"
    }
   ],
   "source": [
    "num_components = len(pca.explained_variance_ratio_)\n",
    "plt.figure(figsize=(10, 6))\n",
    "plt.bar(np.arange(num_components), pca.explained_variance_ratio_)\n",
    "plt.plot(np.cumsum(pca.explained_variance_ratio_))\n",
    "plt.xlabel('Principal component')\n",
    "plt.ylabel('Explained variance')\n",
    "plt.show()"
   ]
  },
  {
   "cell_type": "code",
   "execution_count": 14,
   "metadata": {},
   "outputs": [],
   "source": [
    "pca = PCA(n_components=0.80)\n",
    "pca.fit(X_norm[:train_end_idx])\n",
    "X_pca = pca.transform(X_norm)"
   ]
  },
  {
   "cell_type": "code",
   "execution_count": 15,
   "metadata": {},
   "outputs": [
    {
     "data": {
      "text/plain": [
       "(35064, 17)"
      ]
     },
     "execution_count": 15,
     "metadata": {},
     "output_type": "execute_result"
    }
   ],
   "source": [
    "X_pca.shape"
   ]
  },
  {
   "cell_type": "code",
   "execution_count": 16,
   "metadata": {},
   "outputs": [],
   "source": [
    "dataset_norm = np.concatenate((X_pca, y_norm), axis=1)\n",
    "\n",
    "past_history = 24\n",
    "future_target = 0\n"
   ]
  },
  {
   "cell_type": "code",
   "execution_count": 17,
   "metadata": {},
   "outputs": [],
   "source": [
    "X_train, y_train = multivariate_data(dataset_norm, dataset_norm[:, -1],\n",
    "                                     0, train_end_idx, past_history, \n",
    "                                     future_target, step=1, single_step=True)\n",
    "\n",
    "X_val, y_val = multivariate_data(dataset_norm, dataset_norm[:, -1],\n",
    "                                 cv_test_start_idx, cv_end_idx, past_history, \n",
    "                                 future_target, step=1, single_step=True)\n",
    "\n",
    "X_test, y_test = multivariate_data(dataset_norm, dataset_norm[:, -1],\n",
    "                                   cv_end_idx, test_end_idx, past_history, \n",
    "                                   future_target, step=1, single_step=True)\n",
    "\n",
    "X_transfer, y_transfer = multivariate_data(dataset_norm, dataset_norm[:, -1],\n",
    "                                           transfer_start_idx, ds_size, past_history, \n",
    "                                           future_target, step=1, single_step=True)"
   ]
  },
  {
   "cell_type": "code",
   "execution_count": 18,
   "metadata": {},
   "outputs": [],
   "source": [
    "# X_val, y_val = multivariate_data(dataset_norm, dataset_norm[:, -1],\n",
    "#                                  train_end_idx, cv_end_idx, past_history, \n",
    "#                                  future_target, step=1, single_step=True)"
   ]
  },
  {
   "cell_type": "code",
   "execution_count": 19,
   "metadata": {},
   "outputs": [],
   "source": [
    "# X_test, y_test = multivariate_data(dataset_norm, dataset_norm[:, -1],\n",
    "#                                    cv_end_idx, test_end_idx, past_history, \n",
    "#                                    future_target, step=1, single_step=True)"
   ]
  },
  {
   "cell_type": "code",
   "execution_count": 20,
   "metadata": {},
   "outputs": [],
   "source": [
    "batch_size = 32\n",
    "buffer_size = 1000"
   ]
  },
  {
   "cell_type": "code",
   "execution_count": 21,
   "metadata": {},
   "outputs": [],
   "source": [
    "import tensorflow as tf\n",
    "\n",
    "\n",
    "train = tf.data.Dataset.from_tensor_slices((X_train, y_train))\n",
    "train = train.cache().shuffle(buffer_size).batch(batch_size).prefetch(1)\n",
    "\n",
    "validation = tf.data.Dataset.from_tensor_slices((X_val, y_val))\n",
    "validation = validation.batch(batch_size).prefetch(1)"
   ]
  },
  {
   "cell_type": "code",
   "execution_count": 22,
   "metadata": {},
   "outputs": [],
   "source": [
    "# Define some common parameters\n",
    "\n",
    "input_shape = X_train.shape[-2:]\n",
    "loss = tf.keras.losses.MeanSquaredError()\n",
    "metric = [tf.keras.metrics.RootMeanSquaredError()]\n",
    "lr_schedule = tf.keras.callbacks.LearningRateScheduler(\n",
    "              lambda epoch: 1e-4 * 10**(epoch / 10))\n",
    "early_stopping = tf.keras.callbacks.EarlyStopping(patience=10)"
   ]
  },
  {
   "cell_type": "code",
   "execution_count": 23,
   "metadata": {},
   "outputs": [],
   "source": [
    "y_test = y_test.reshape(-1, 1)\n",
    "y_test_inv = scaler_y.inverse_transform(y_test)\n",
    "\n"
   ]
  }
 ],
 "metadata": {
  "kernelspec": {
   "display_name": ".venv",
   "language": "python",
   "name": "python3"
  },
  "language_info": {
   "codemirror_mode": {
    "name": "ipython",
    "version": 3
   },
   "file_extension": ".py",
   "mimetype": "text/x-python",
   "name": "python",
   "nbconvert_exporter": "python",
   "pygments_lexer": "ipython3",
   "version": "3.11.10"
  }
 },
 "nbformat": 4,
 "nbformat_minor": 2
}
