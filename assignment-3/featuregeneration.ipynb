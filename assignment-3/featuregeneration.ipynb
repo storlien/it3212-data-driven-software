{
 "cells": [
  {
   "cell_type": "code",
   "execution_count": 13,
   "metadata": {},
   "outputs": [],
   "source": [
    "import pandas as pd\n",
    "import numpy as np"
   ]
  },
  {
   "cell_type": "markdown",
   "metadata": {},
   "source": [
    "### Feature generation"
   ]
  },
  {
   "cell_type": "code",
   "execution_count": 28,
   "metadata": {},
   "outputs": [
    {
     "name": "stdout",
     "output_type": "stream",
     "text": [
      "datetime64[ns, UTC]\n"
     ]
    }
   ],
   "source": [
    "df_final = pd.read_csv('../datasets/df_combined.csv', parse_dates=[\"time\"])\n",
    "\n",
    "df_final['time'] = pd.to_datetime(df_final['time'], utc=True)\n",
    "\n",
    "print(df_final['time'].dtype)\n"
   ]
  },
  {
   "cell_type": "code",
   "execution_count": 29,
   "metadata": {},
   "outputs": [],
   "source": [
    "# df_final.set_index(\"time\", inplace=True)\n",
    "\n",
    "df_final['hour'] = df_final['time'].dt.hour\n",
    "df_final['weekday'] = df_final['time'].dt.weekday\n",
    "df_final['month'] = df_final['time'].dt.month "
   ]
  },
  {
   "cell_type": "code",
   "execution_count": 30,
   "metadata": {},
   "outputs": [],
   "source": [
    "# # Ensure 'hour' and 'weekday' columns are created\n",
    "# df_final['hour'] = df_final['time'].dt.hour\n",
    "# df_final['weekday'] = df_final['time'].dt.weekday\n",
    "\n",
    "# Define conditions and values for 'business hour' and 'weekday_category' in one go\n",
    "\n",
    "# Business hour conditions and values\n",
    "business_conditions = [\n",
    "    ((df_final['hour'] > 8) & (df_final['hour'] < 14)) | ((df_final['hour'] > 17) & (df_final['hour'] < 21)),\n",
    "    (df_final['hour'] >= 14) & (df_final['hour'] <= 17)\n",
    "]\n",
    "business_values = [2, 1]\n",
    "\n",
    "# Weekday category conditions and values\n",
    "weekday_conditions = [\n",
    "    (df_final['weekday'] == 6),  # Sunday\n",
    "    (df_final['weekday'] == 5)   # Saturday\n",
    "]\n",
    "weekday_values = [2, 1]\n",
    "\n",
    "# Assign 'business hour' and 'weekday_category' using np.select\n",
    "df_final['business hour'] = np.select(business_conditions, business_values, default=0)\n",
    "df_final['weekday_category'] = np.select(weekday_conditions, weekday_values, default=0)\n"
   ]
  },
  {
   "cell_type": "code",
   "execution_count": 33,
   "metadata": {},
   "outputs": [
    {
     "name": "stdout",
     "output_type": "stream",
     "text": [
      "Index(['time', 'generation biomass', 'generation fossil brown coal/lignite',\n",
      "       'generation fossil gas', 'generation fossil hard coal',\n",
      "       'generation fossil oil', 'generation hydro pumped storage consumption',\n",
      "       'generation hydro run-of-river and poundage',\n",
      "       'generation hydro water reservoir', 'generation nuclear',\n",
      "       'generation other', 'generation other renewable', 'generation solar',\n",
      "       'generation waste', 'generation wind onshore', 'total load actual',\n",
      "       'price day ahead', 'price actual', 'temp_0', 'temp_min_0', 'temp_max_0',\n",
      "       'pressure_0', 'humidity_0', 'wind_speed_0', 'wind_deg_0', 'rain_1h_0',\n",
      "       'snow_3h_0', 'clouds_all_0', 'weather_id_0', 'temp_1', 'temp_min_1',\n",
      "       'temp_max_1', 'pressure_1', 'humidity_1', 'wind_speed_1', 'wind_deg_1',\n",
      "       'rain_1h_1', 'snow_3h_1', 'clouds_all_1', 'weather_id_1', 'temp_2',\n",
      "       'temp_min_2', 'temp_max_2', 'pressure_2', 'humidity_2', 'wind_speed_2',\n",
      "       'wind_deg_2', 'rain_1h_2', 'snow_3h_2', 'clouds_all_2', 'weather_id_2',\n",
      "       'temp_3', 'temp_min_3', 'temp_max_3', 'pressure_3', 'humidity_3',\n",
      "       'wind_speed_3', 'wind_deg_3', 'rain_1h_3', 'snow_3h_3', 'clouds_all_3',\n",
      "       'weather_id_3', 'temp_4', 'temp_min_4', 'temp_max_4', 'pressure_4',\n",
      "       'humidity_4', 'wind_speed_4', 'wind_deg_4', 'rain_1h_4', 'snow_3h_4',\n",
      "       'clouds_all_4', 'weather_id_4', 'hour', 'weekday', 'month',\n",
      "       'business hour', 'weekday_category', 'temp_range_0', 'temp_range_1',\n",
      "       'temp_range_2', 'temp_range_3', 'temp_range_4', 'temp_weighted'],\n",
      "      dtype='object')\n"
     ]
    }
   ],
   "source": [
    "# Define the list of cities\n",
    "# cities = ['Barcelona', 'Bilbao', 'Madrid', 'Seville', 'Valencia']\n",
    "\n",
    "population =  5179243 + 987000 + 6155116 + 1305342 + 1645342\n",
    "\n",
    "weights = [\n",
    "5179243 / population,\n",
    "987000 / population,\n",
    "6155116 / population,\n",
    "1305342 / population,\n",
    "1645342 / population\n",
    "]\n",
    "# Calculate the temperature range for each city in a vectorized way\n",
    "for label in range(5):\n",
    "    # Compute the absolute difference and store it in a new column\n",
    "    df_final['temp_range_{}'.format(label)] = abs(df_final['temp_max_{}'.format(label)] - df_final['temp_min_{}'.format(label)])\n",
    "\n",
    "\n",
    "cities_weights = {label: weight for label, weight in enumerate(weights)}\n",
    "\n",
    "df_final['temp_weighted'] = sum(df_final[f'temp_{label}'] * weight for label, weight in enumerate(weights))\n",
    "\n",
    "print(df_final.columns)"
   ]
  },
  {
   "cell_type": "markdown",
   "metadata": {},
   "source": [
    "### Feature selection"
   ]
  },
  {
   "cell_type": "code",
   "execution_count": 34,
   "metadata": {},
   "outputs": [],
   "source": [
    "def multivariate_data(dataset, target, start_index, end_index, \n",
    "                      history_size, target_size, step, single_step=False):\n",
    "    data = []\n",
    "    labels = []\n",
    "\n",
    "    start_index = start_index + history_size\n",
    "    if end_index is None:\n",
    "        end_index = len(dataset) - target_size\n",
    "\n",
    "\n",
    "    for i in range(start_index, end_index):\n",
    "        indices = range(i - history_size, i, step)\n",
    "        data.appennd(dataset[indices])\n",
    "\n",
    "        if single_step:\n",
    "            labels.append(target[i + target_size])\n",
    "        else:\n",
    "            labels.append(target[i:i + target_size])\n",
    "\n",
    "    return np.array(data), np.array(labels)"
   ]
  },
  {
   "cell_type": "code",
   "execution_count": 35,
   "metadata": {},
   "outputs": [],
   "source": [
    "train_end_idx = 27048\n",
    "cv_end_idx = 31056\n",
    "test_end_idx = 35064"
   ]
  },
  {
   "cell_type": "code",
   "execution_count": null,
   "metadata": {},
   "outputs": [],
   "source": [
    "# X = df_final[df_final.columns.drop('price actual')].values\n",
    "# y = df_final['price actual'].values\n",
    "\n",
    "# y = y.reshape(-1, 1)"
   ]
  }
 ],
 "metadata": {
  "kernelspec": {
   "display_name": ".venv",
   "language": "python",
   "name": "python3"
  },
  "language_info": {
   "codemirror_mode": {
    "name": "ipython",
    "version": 3
   },
   "file_extension": ".py",
   "mimetype": "text/x-python",
   "name": "python",
   "nbconvert_exporter": "python",
   "pygments_lexer": "ipython3",
   "version": "3.12.7"
  }
 },
 "nbformat": 4,
 "nbformat_minor": 2
}
