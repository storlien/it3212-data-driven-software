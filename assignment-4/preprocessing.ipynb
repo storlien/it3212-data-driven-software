{
 "cells": [
  {
   "cell_type": "code",
   "execution_count": null,
   "metadata": {},
   "outputs": [],
   "source": [
    "#import files and libraries\n",
    "import os\n",
    "from PIL import Image\n",
    "import numpy as np\n",
    "\n",
    "\n",
    "# Path to the dataset\n",
    "path = r\"C:\\Users\\asmun\\OneDrive - NTNU\\H24\\Datadrevet\\it3212-data-driven-software\\datasets\\r7bthvstxw-1\"\n",
    "\n",
    "# Function to collect image paths from the given directory\n",
    "def images(path):\n",
    "    found_images = []\n",
    "    for root, dirs, files in os.walk(path):\n",
    "        for file in files:\n",
    "            if file.endswith('.jpg'):\n",
    "                found_images.append(os.path.join(root, file))\n",
    "    return found_images\n",
    "\n",
    "found_im = images(path)\n",
    "\n",
    "#resize the pictures to 128x128\n",
    "def resize_images(images, size):\n",
    "    processed_images = []\n",
    "    for image in images:\n",
    "        img = Image.open(image).convert('L') #greyscale\n",
    "        img = img.resize((size, size))\n",
    "        img = np.array(img) / 255.0 #normalize\n",
    "        processed_images.append(img)\n",
    "    return np.array(processed_images)   \n",
    "     \n",
    "resize_images(found_im, 128)\n",
    "\n"
   ]
  }
 ],
 "metadata": {
  "kernelspec": {
   "display_name": "Python 3",
   "language": "python",
   "name": "python3"
  },
  "language_info": {
   "codemirror_mode": {
    "name": "ipython",
    "version": 3
   },
   "file_extension": ".py",
   "mimetype": "text/x-python",
   "name": "python",
   "nbconvert_exporter": "python",
   "pygments_lexer": "ipython3",
   "version": "3.11.9"
  }
 },
 "nbformat": 4,
 "nbformat_minor": 2
}
