{
 "cells": [
  {
   "cell_type": "code",
   "execution_count": 8,
   "metadata": {},
   "outputs": [
    {
     "name": "stdout",
     "output_type": "stream",
     "text": [
      "C:\\Users\\asmun\\OneDrive - NTNU\\H24\\Datadrevet\\it3212-data-driven-software\\datasets\\r7bthvstxw-1\\hatchback: 181 images\n",
      "C:\\Users\\asmun\\OneDrive - NTNU\\H24\\Datadrevet\\it3212-data-driven-software\\datasets\\r7bthvstxw-1\\motorcycle: 121 images\n",
      "C:\\Users\\asmun\\OneDrive - NTNU\\H24\\Datadrevet\\it3212-data-driven-software\\datasets\\r7bthvstxw-1\\pickup: 478 images\n",
      "C:\\Users\\asmun\\OneDrive - NTNU\\H24\\Datadrevet\\it3212-data-driven-software\\datasets\\r7bthvstxw-1\\sedan: 400 images\n",
      "C:\\Users\\asmun\\OneDrive - NTNU\\H24\\Datadrevet\\it3212-data-driven-software\\datasets\\r7bthvstxw-1\\suv: 129 images\n",
      "Total images: 1309\n"
     ]
    }
   ],
   "source": [
    "#import files and libraries\n",
    "import os\n",
    "from PIL import Image, ImageOps, ImageEnhance\n",
    "import numpy as np\n",
    "import random\n",
    "import matplotlib.pyplot as plt\n",
    "\n",
    "\n",
    "# Path to the dataset\n",
    "# path = r\"C:\\Users\\asmun\\OneDrive - NTNU\\H24\\Datadrevet\\it3212-data-driven-software\\datasets\\r7bthvstxw-1\"\n",
    "path = \"../datasets/r7bthvstxw-1\"\n",
    "import os\n",
    "\n",
    "# Function to collect image paths and print picture counts in each directory\n",
    "def images(path):\n",
    "    found_images = []\n",
    "    directory_counts = {}  # Dictionary to store counts for each directory\n",
    "\n",
    "    for root, dirs, files in os.walk(path):\n",
    "        count = 0  # Count images in the current directory\n",
    "        for file in files:\n",
    "            if file.endswith('.jpg'):\n",
    "                found_images.append(os.path.join(root, file))\n",
    "                count += 1\n",
    "        if count > 0:  # Only include directories that have images\n",
    "            directory_counts[root] = count\n",
    "\n",
    "    # Print the count of images in each directory\n",
    "    for directory, count in directory_counts.items():\n",
    "        print(f\"{directory}: {count} images\")\n",
    "    \n",
    "    # Print total number of images\n",
    "    print(f\"Total images: {len(found_images)}\")\n",
    "\n",
    "    return found_images\n",
    "\n",
    "# Path to the dataset directory\n",
    "path = r\"C:\\Users\\asmun\\OneDrive - NTNU\\H24\\Datadrevet\\it3212-data-driven-software\\datasets\\r7bthvstxw-1\"\n",
    "\n",
    "# Get the list of images and print the counts\n",
    "found_im = images(path)\n",
    "\n",
    "\n"
   ]
  },
  {
   "cell_type": "markdown",
   "metadata": {},
   "source": [
    "Need to augmentate pictures to expand dataset by rotating and doing things with the images"
   ]
  },
  {
   "cell_type": "code",
   "execution_count": 2,
   "metadata": {},
   "outputs": [],
   "source": [
    "# Function to resize and augment images\n",
    "def resize_and_augment_images(images, size, augment=True):\n",
    "    processed_images = []\n",
    "    for image in images:\n",
    "        img = Image.open(image).convert('RGB')  # Greyscale\n",
    "        img = img.resize((size, size))  # Resize to specified size\n",
    "        \n",
    "        if augment:  # Apply augmentation if enabled\n",
    "            if random.random() > 0.5:  # Random rotation\n",
    "                angle = random.randint(-30, 30)  # Rotate between -30 and 30 degrees\n",
    "                img = img.rotate(angle)\n",
    "            \n",
    "            if random.random() > 0.5:  # Horizontal flip\n",
    "                img = ImageOps.mirror(img)\n",
    "            \n",
    "            if random.random() > 0.5:  # Brightness adjustment\n",
    "                enhancer = ImageEnhance.Brightness(img)\n",
    "                factor = random.uniform(0.8, 1.2)  # Adjust brightness between 80% and 120%\n",
    "                img = enhancer.enhance(factor)\n",
    "            \n",
    "            if random.random() > 0.5:  # Adding noise\n",
    "                img = np.array(img)\n",
    "                noise = np.random.normal(0, 0.05, img.shape)  # Add Gaussian noise\n",
    "                img = np.clip(img + noise, 0, 1)  # Ensure pixel values remain in [0, 1]\n",
    "                img = Image.fromarray((img * 255).astype(np.uint8))\n",
    "        \n",
    "        img = np.array(img) / 255.0  # Normalize to [0, 1]\n",
    "        processed_images.append(img)\n",
    "    \n",
    "    return np.array(processed_images)\n",
    "\n",
    "# Usage\n",
    "processed_images = resize_and_augment_images(found_im, 128, augment=True)\n"
   ]
  },
  {
   "cell_type": "code",
   "execution_count": 3,
   "metadata": {},
   "outputs": [
    {
     "name": "stdout",
     "output_type": "stream",
     "text": [
      "Processed images shape: (2390, 128, 128, 3)\n",
      "Balanced label distribution: Counter({'hatchback': 478, 'motorcycle': 478, 'pickup': 478, 'sedan': 478, 'suv': 478})\n"
     ]
    }
   ],
   "source": [
    "import random\n",
    "from PIL import Image, ImageOps, ImageEnhance\n",
    "import numpy as np\n",
    "from collections import Counter\n",
    "\n",
    "# Function to resize, augment, and balance images\n",
    "def resize_augment_and_balance(images, labels, size=128, augment=True):\n",
    "    processed_images = []\n",
    "    processed_labels = []\n",
    "    \n",
    "    # Count the number of images per class\n",
    "    label_counts = Counter(labels)\n",
    "    max_count = max(label_counts.values())  # Find the maximum class count\n",
    "\n",
    "    # Group images by class\n",
    "    class_images = {label: [] for label in label_counts}\n",
    "    for image, label in zip(images, labels):\n",
    "        class_images[label].append(image)\n",
    "\n",
    "    # Augment images from minority classes to balance the dataset\n",
    "    for label, image_paths in class_images.items():\n",
    "        current_count = label_counts[label]\n",
    "        num_to_add = max_count - current_count\n",
    "        \n",
    "        # Add existing images to processed list\n",
    "        for image_path in image_paths:\n",
    "            img = process_image(image_path, size, augment)\n",
    "            processed_images.append(img)\n",
    "            processed_labels.append(label)\n",
    "        \n",
    "        # Augment additional images for balancing\n",
    "        if num_to_add > 0:\n",
    "            for _ in range(num_to_add):\n",
    "                img_path = random.choice(image_paths)  # Randomly pick an existing image\n",
    "                img = process_image(img_path, size, augment=True)  # Always augment for new samples\n",
    "                processed_images.append(img)\n",
    "                processed_labels.append(label)\n",
    "\n",
    "    return np.array(processed_images), np.array(processed_labels)\n",
    "\n",
    "# Helper function to process and augment a single image\n",
    "def process_image(image_path, size, augment=True):\n",
    "    img = Image.open(image_path).convert('RGB')  # Convert to RGB\n",
    "    img = img.resize((size, size))  # Resize to specified size\n",
    "\n",
    "    if augment:\n",
    "        if random.random() > 0.5:  # Random rotation\n",
    "            angle = random.randint(-30, 30)  # Rotate between -30 and 30 degrees\n",
    "            img = img.rotate(angle)\n",
    "\n",
    "        if random.random() > 0.5:  # Horizontal flip\n",
    "            img = ImageOps.mirror(img)\n",
    "\n",
    "        if random.random() > 0.5:  # Brightness adjustment\n",
    "            enhancer = ImageEnhance.Brightness(img)\n",
    "            factor = random.uniform(0.8, 1.2)  # Adjust brightness between 80% and 120%\n",
    "            img = enhancer.enhance(factor)\n",
    "\n",
    "        if random.random() > 0.5:  # Adding noise\n",
    "            img = np.array(img)\n",
    "            noise = np.random.normal(0, 0.05, img.shape)  # Add Gaussian noise\n",
    "            img = np.clip(img + noise, 0, 1)  # Ensure pixel values remain in [0, 1]\n",
    "            img = Image.fromarray((img * 255).astype(np.uint8))\n",
    "    \n",
    "    img = np.array(img) / 255.0  # Normalize to [0, 1]\n",
    "    return img\n",
    "\n",
    "# Usage Example\n",
    "# Assuming `found_im` contains image paths and `labels` contains their corresponding labels\n",
    "processed_images, processed_labels = resize_augment_and_balance(found_im, labels, size=128, augment=True)\n",
    "print(f\"Processed images shape: {processed_images.shape}\")\n",
    "print(f\"Balanced label distribution: {Counter(processed_labels)}\")\n"
   ]
  },
  {
   "cell_type": "code",
   "execution_count": 57,
   "metadata": {},
   "outputs": [
    {
     "name": "stdout",
     "output_type": "stream",
     "text": [
      "Counter({'hatchback': 478, 'motorcycle': 478, 'pickup': 478, 'sedan': 478, 'suv': 478})\n",
      "Training size: 1673, Validation size: 358, Test size: 359\n"
     ]
    }
   ],
   "source": [
    "from sklearn.model_selection import train_test_split\n",
    "from collections import Counter\n",
    "\n",
    "# Assuming resize_augment_and_balance has already been run\n",
    "processed_images, processed_labels = resize_augment_and_balance(found_im, labels, size=128, augment=True)\n",
    "\n",
    "# Check the updated label distribution\n",
    "print(Counter(processed_labels))  # Ensure labels are balanced\n",
    "\n",
    "# Split the dataset into training, validation, and test sets\n",
    "X_train, X_temp, y_train, y_temp = train_test_split(\n",
    "    processed_images, processed_labels, test_size=0.3, random_state=42\n",
    ")\n",
    "X_val, X_test, y_val, y_test = train_test_split(\n",
    "    X_temp, y_temp, test_size=0.5, random_state=42\n",
    ")\n",
    "\n",
    "print(f\"Training size: {len(X_train)}, Validation size: {len(X_val)}, Test size: {len(X_test)}\")\n"
   ]
  },
  {
   "cell_type": "code",
   "execution_count": 4,
   "metadata": {},
   "outputs": [
    {
     "name": "stdout",
     "output_type": "stream",
     "text": [
      "\u001b[1m53/53\u001b[0m \u001b[32m━━━━━━━━━━━━━━━━━━━━\u001b[0m\u001b[37m\u001b[0m \u001b[1m15s\u001b[0m 232ms/step\n",
      "\u001b[1m12/12\u001b[0m \u001b[32m━━━━━━━━━━━━━━━━━━━━\u001b[0m\u001b[37m\u001b[0m \u001b[1m2s\u001b[0m 201ms/step\n",
      "\u001b[1m12/12\u001b[0m \u001b[32m━━━━━━━━━━━━━━━━━━━━\u001b[0m\u001b[37m\u001b[0m \u001b[1m2s\u001b[0m 200ms/step\n",
      "Extracted train features shape: (1673, 4, 4, 2048)\n"
     ]
    }
   ],
   "source": [
    "from tensorflow.keras.applications import ResNet50\n",
    "from tensorflow.keras.models import Model\n",
    "import numpy as np\n",
    "\n",
    "# Load a pre-trained ResNet50 model without the top layer\n",
    "base_model = ResNet50(weights='imagenet', include_top=False, input_shape=(128, 128, 3))\n",
    "\n",
    "# Create a feature extractor model\n",
    "feature_extractor = Model(inputs=base_model.input, outputs=base_model.output)\n",
    "\n",
    "# Extract features from processed images\n",
    "# Ensure processed_images are normalized and reshaped to (N, 128, 128, 3)\n",
    "features_train = feature_extractor.predict(np.stack(X_train, axis=0))\n",
    "features_val = feature_extractor.predict(np.stack(X_val, axis=0))\n",
    "features_test = feature_extractor.predict(np.stack(X_test, axis=0))\n",
    "\n",
    "print(f\"Extracted train features shape: {features_train.shape}\")  # Example: (N, 4, 4, 2048)\n"
   ]
  },
  {
   "cell_type": "code",
   "execution_count": 5,
   "metadata": {},
   "outputs": [
    {
     "name": "stdout",
     "output_type": "stream",
     "text": [
      "Flattened train features shape: (1673, 32768)\n"
     ]
    }
   ],
   "source": [
    "# Flatten the extracted features\n",
    "features_train_flat = features_train.reshape(features_train.shape[0], -1)\n",
    "features_val_flat = features_val.reshape(features_val.shape[0], -1)\n",
    "features_test_flat = features_test.reshape(features_test.shape[0], -1)\n",
    "\n",
    "print(f\"Flattened train features shape: {features_train_flat.shape}\")  # Example: (N, 32768)\n"
   ]
  },
  {
   "cell_type": "code",
   "execution_count": 6,
   "metadata": {},
   "outputs": [
    {
     "name": "stdout",
     "output_type": "stream",
     "text": [
      "Reduced train features shape: (1673, 100)\n"
     ]
    }
   ],
   "source": [
    "from sklearn.decomposition import PCA\n",
    "\n",
    "# Apply PCA to reduce dimensionality\n",
    "pca = PCA(n_components=100)  # Retain 100 principal components\n",
    "features_train_pca = pca.fit_transform(features_train_flat)\n",
    "features_val_pca = pca.transform(features_val_flat)\n",
    "features_test_pca = pca.transform(features_test_flat)\n",
    "\n",
    "print(f\"Reduced train features shape: {features_train_pca.shape}\")  # Example: (N, 100)\n"
   ]
  },
  {
   "cell_type": "code",
   "execution_count": 61,
   "metadata": {},
   "outputs": [
    {
     "data": {
      "image/png": "[encoded data removed]",
      "text/plain": [
       "<Figure size 1000x600 with 1 Axes>"
      ]
     },
     "metadata": {},
     "output_type": "display_data"
    }
   ],
   "source": [
    "import matplotlib.pyplot as plt\n",
    "# Fit PCA and calculate explained variance\n",
    "pca = PCA(n_components=100)  # Limit to 10 components for visualization\n",
    "pca.fit(features_train_flat)\n",
    "explained_variance = pca.explained_variance_ratio_\n",
    "\n",
    "# Plot the explained variance\n",
    "plt.figure(figsize=(10, 6))\n",
    "plt.bar(range(1, len(explained_variance) + 1), explained_variance, alpha=0.7, align='center')\n",
    "plt.step(range(1, len(explained_variance) + 1), np.cumsum(explained_variance), where='mid', label='Cumulative Variance')\n",
    "plt.xlabel('Principal Component Index')\n",
    "plt.ylabel('Explained Variance Ratio')\n",
    "plt.title('Explained Variance by Principal Components')\n",
    "plt.legend(loc='best')\n",
    "plt.show()\n"
   ]
  }
 ],
 "metadata": {
  "kernelspec": {
   "display_name": ".venv",
   "language": "python",
   "name": "python3"
  },
  "language_info": {
   "codemirror_mode": {
    "name": "ipython",
    "version": 3
   },
   "file_extension": ".py",
   "mimetype": "text/x-python",
   "name": "python",
   "nbconvert_exporter": "python",
   "pygments_lexer": "ipython3",
   "version": "3.11.10"
  }
 },
 "nbformat": 4,
 "nbformat_minor": 2
}
