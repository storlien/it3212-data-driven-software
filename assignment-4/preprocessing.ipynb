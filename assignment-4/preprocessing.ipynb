{
 "cells": [
  {
   "cell_type": "code",
   "execution_count": 32,
   "metadata": {},
   "outputs": [],
   "source": [
    "#import files and libraries\n",
    "import os\n",
    "from PIL import Image, ImageOps, ImageEnhance\n",
    "import numpy as np\n",
    "import random\n",
    "\n",
    "\n",
    "# Path to the dataset\n",
    "path = r\"C:\\Users\\asmun\\OneDrive - NTNU\\H24\\Datadrevet\\it3212-data-driven-software\\datasets\\r7bthvstxw-1\"\n",
    "\n",
    "# Function to collect image paths from the given directory\n",
    "def images(path):\n",
    "    found_images = []\n",
    "    for root, dirs, files in os.walk(path):\n",
    "        for file in files:\n",
    "            if file.endswith('.jpg'):\n",
    "                found_images.append(os.path.join(root, file))\n",
    "    return found_images\n",
    "\n",
    "found_im = images(path)\n",
    "\n"
   ]
  },
  {
   "cell_type": "markdown",
   "metadata": {},
   "source": [
    "Need to augmentate pictures to expand dataset by rotating and doing things with the images"
   ]
  },
  {
   "cell_type": "code",
   "execution_count": 33,
   "metadata": {},
   "outputs": [],
   "source": [
    "# Function to resize and augment images\n",
    "def resize_and_augment_images(images, size, augment=True):\n",
    "    processed_images = []\n",
    "    for image in images:\n",
    "        img = Image.open(image).convert('RGB')  # Greyscale\n",
    "        img = img.resize((size, size))  # Resize to specified size\n",
    "        \n",
    "        if augment:  # Apply augmentation if enabled\n",
    "            if random.random() > 0.5:  # Random rotation\n",
    "                angle = random.randint(-30, 30)  # Rotate between -30 and 30 degrees\n",
    "                img = img.rotate(angle)\n",
    "            \n",
    "            if random.random() > 0.5:  # Horizontal flip\n",
    "                img = ImageOps.mirror(img)\n",
    "            \n",
    "            if random.random() > 0.5:  # Brightness adjustment\n",
    "                enhancer = ImageEnhance.Brightness(img)\n",
    "                factor = random.uniform(0.8, 1.2)  # Adjust brightness between 80% and 120%\n",
    "                img = enhancer.enhance(factor)\n",
    "            \n",
    "            if random.random() > 0.5:  # Adding noise\n",
    "                img = np.array(img)\n",
    "                noise = np.random.normal(0, 0.05, img.shape)  # Add Gaussian noise\n",
    "                img = np.clip(img + noise, 0, 1)  # Ensure pixel values remain in [0, 1]\n",
    "                img = Image.fromarray((img * 255).astype(np.uint8))\n",
    "        \n",
    "        img = np.array(img) / 255.0  # Normalize to [0, 1]\n",
    "        processed_images.append(img)\n",
    "    \n",
    "    return np.array(processed_images)\n",
    "\n",
    "# Usage\n",
    "processed_images = resize_and_augment_images(found_im, 128, augment=True)\n"
   ]
  },
  {
   "cell_type": "code",
   "execution_count": 34,
   "metadata": {},
   "outputs": [
    {
     "name": "stdout",
     "output_type": "stream",
     "text": [
      "Training size: 916, Validation size: 196, Test size: 197\n"
     ]
    }
   ],
   "source": [
    "from sklearn.model_selection import train_test_split\n",
    "\n",
    "# Function to extract labels from file paths\n",
    "def get_labels_from_paths(image_paths):\n",
    "    labels = []\n",
    "    for image_path in image_paths:\n",
    "        # Extract category (assumes category is the parent folder name)\n",
    "        label = os.path.basename(os.path.dirname(image_path))\n",
    "        labels.append(label)\n",
    "    return labels\n",
    "\n",
    "# Generate labels for all images\n",
    "labels = get_labels_from_paths(found_im)\n",
    "\n",
    "# Split the dataset into training, validation, and test sets\n",
    "X_train, X_temp, y_train, y_temp = train_test_split(\n",
    "    processed_images, labels, test_size=0.3, random_state=42\n",
    ")\n",
    "X_val, X_test, y_val, y_test = train_test_split(\n",
    "    X_temp, y_temp, test_size=0.5, random_state=42\n",
    ")\n",
    "\n",
    "print(f\"Training size: {len(X_train)}, Validation size: {len(X_val)}, Test size: {len(X_test)}\")\n"
   ]
  },
  {
   "cell_type": "code",
   "execution_count": 35,
   "metadata": {},
   "outputs": [
    {
     "name": "stdout",
     "output_type": "stream",
     "text": [
      "\u001b[1m29/29\u001b[0m \u001b[32m━━━━━━━━━━━━━━━━━━━━\u001b[0m\u001b[37m\u001b[0m \u001b[1m12s\u001b[0m 331ms/step\n",
      "\u001b[1m7/7\u001b[0m \u001b[32m━━━━━━━━━━━━━━━━━━━━\u001b[0m\u001b[37m\u001b[0m \u001b[1m2s\u001b[0m 241ms/step\n",
      "\u001b[1m7/7\u001b[0m \u001b[32m━━━━━━━━━━━━━━━━━━━━\u001b[0m\u001b[37m\u001b[0m \u001b[1m2s\u001b[0m 251ms/step\n",
      "Extracted train features shape: (916, 4, 4, 2048)\n"
     ]
    }
   ],
   "source": [
    "from tensorflow.keras.applications import ResNet50\n",
    "from tensorflow.keras.models import Model\n",
    "import numpy as np\n",
    "\n",
    "# Load a pre-trained ResNet50 model without the top layer\n",
    "base_model = ResNet50(weights='imagenet', include_top=False, input_shape=(128, 128, 3))\n",
    "\n",
    "# Create a feature extractor model\n",
    "feature_extractor = Model(inputs=base_model.input, outputs=base_model.output)\n",
    "\n",
    "# Extract features from processed images\n",
    "# Ensure processed_images are normalized and reshaped to (N, 128, 128, 3)\n",
    "features_train = feature_extractor.predict(np.stack(X_train, axis=0))\n",
    "features_val = feature_extractor.predict(np.stack(X_val, axis=0))\n",
    "features_test = feature_extractor.predict(np.stack(X_test, axis=0))\n",
    "\n",
    "print(f\"Extracted train features shape: {features_train.shape}\")  # Example: (N, 4, 4, 2048)\n"
   ]
  },
  {
   "cell_type": "code",
   "execution_count": 36,
   "metadata": {},
   "outputs": [
    {
     "name": "stdout",
     "output_type": "stream",
     "text": [
      "Flattened train features shape: (916, 32768)\n"
     ]
    }
   ],
   "source": [
    "# Flatten the extracted features\n",
    "features_train_flat = features_train.reshape(features_train.shape[0], -1)\n",
    "features_val_flat = features_val.reshape(features_val.shape[0], -1)\n",
    "features_test_flat = features_test.reshape(features_test.shape[0], -1)\n",
    "\n",
    "print(f\"Flattened train features shape: {features_train_flat.shape}\")  # Example: (N, 32768)\n"
   ]
  },
  {
   "cell_type": "code",
   "execution_count": 37,
   "metadata": {},
   "outputs": [
    {
     "name": "stdout",
     "output_type": "stream",
     "text": [
      "Reduced train features shape: (916, 100)\n"
     ]
    }
   ],
   "source": [
    "from sklearn.decomposition import PCA\n",
    "\n",
    "# Apply PCA to reduce dimensionality\n",
    "pca = PCA(n_components=100)  # Retain 100 principal components\n",
    "features_train_pca = pca.fit_transform(features_train_flat)\n",
    "features_val_pca = pca.transform(features_val_flat)\n",
    "features_test_pca = pca.transform(features_test_flat)\n",
    "\n",
    "print(f\"Reduced train features shape: {features_train_pca.shape}\")  # Example: (N, 100)\n"
   ]
  },
  {
   "cell_type": "code",
   "execution_count": 40,
   "metadata": {},
   "outputs": [
    {
     "data": {
      "image/png": "[encoded data removed]",
      "text/plain": [
       "<Figure size 1000x600 with 1 Axes>"
      ]
     },
     "metadata": {},
     "output_type": "display_data"
    }
   ],
   "source": [
    "# Fit PCA and calculate explained variance\n",
    "pca = PCA(n_components=100)  # Limit to 10 components for visualization\n",
    "pca.fit(features_train_flat)\n",
    "explained_variance = pca.explained_variance_ratio_\n",
    "\n",
    "# Plot the explained variance\n",
    "plt.figure(figsize=(10, 6))\n",
    "plt.bar(range(1, len(explained_variance) + 1), explained_variance, alpha=0.7, align='center')\n",
    "plt.step(range(1, len(explained_variance) + 1), np.cumsum(explained_variance), where='mid', label='Cumulative Variance')\n",
    "plt.xlabel('Principal Component Index')\n",
    "plt.ylabel('Explained Variance Ratio')\n",
    "plt.title('Explained Variance by Principal Components')\n",
    "plt.legend(loc='best')\n",
    "plt.show()\n"
   ]
  }
 ],
 "metadata": {
  "kernelspec": {
   "display_name": "Python 3",
   "language": "python",
   "name": "python3"
  },
  "language_info": {
   "codemirror_mode": {
    "name": "ipython",
    "version": 3
   },
   "file_extension": ".py",
   "mimetype": "text/x-python",
   "name": "python",
   "nbconvert_exporter": "python",
   "pygments_lexer": "ipython3",
   "version": "3.11.9"
  }
 },
 "nbformat": 4,
 "nbformat_minor": 2
}
