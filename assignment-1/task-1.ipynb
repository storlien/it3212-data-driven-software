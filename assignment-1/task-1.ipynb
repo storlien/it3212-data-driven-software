{
 "cells": [
  {
   "cell_type": "code",
   "execution_count": 1,
   "metadata": {},
   "outputs": [],
   "source": [
    "import pandas as pd"
   ]
  },
  {
   "cell_type": "markdown",
   "metadata": {},
   "source": [
    "### Task 1\n",
    "#### a)"
   ]
  },
  {
   "cell_type": "code",
   "execution_count": 11,
   "metadata": {},
   "outputs": [
    {
     "name": "stdout",
     "output_type": "stream",
     "text": [
      "    sex  age  height  weight  waistline  sight_left  sight_right  hear_left  \\\n",
      "0  Male   35     170      75       90.0         1.0          1.0        1.0   \n",
      "1  Male   30     180      80       89.0         0.9          1.2        1.0   \n",
      "2  Male   40     165      75       91.0         1.2          1.5        1.0   \n",
      "3  Male   50     175      80       91.0         1.5          1.2        1.0   \n",
      "4  Male   50     165      60       80.0         1.0          1.2        1.0   \n",
      "\n",
      "   hear_right    SBP  ...  LDL_chole  triglyceride  hemoglobin  urine_protein  \\\n",
      "0         1.0  120.0  ...      126.0          92.0        17.1            1.0   \n",
      "1         1.0  130.0  ...      148.0         121.0        15.8            1.0   \n",
      "2         1.0  120.0  ...       74.0         104.0        15.8            1.0   \n",
      "3         1.0  145.0  ...      104.0         106.0        17.6            1.0   \n",
      "4         1.0  138.0  ...      117.0         104.0        13.8            1.0   \n",
      "\n",
      "   serum_creatinine  SGOT_AST  SGOT_ALT  gamma_GTP  SMK_stat_type_cd  DRK_YN  \n",
      "0               1.0      21.0      35.0       40.0               1.0       Y  \n",
      "1               0.9      20.0      36.0       27.0               3.0       N  \n",
      "2               0.9      47.0      32.0       68.0               1.0       N  \n",
      "3               1.1      29.0      34.0       18.0               1.0       N  \n",
      "4               0.8      19.0      12.0       25.0               1.0       N  \n",
      "\n",
      "[5 rows x 24 columns]\n",
      "sex                  object\n",
      "age                   int64\n",
      "height                int64\n",
      "weight                int64\n",
      "waistline           float64\n",
      "sight_left          float64\n",
      "sight_right         float64\n",
      "hear_left           float64\n",
      "hear_right          float64\n",
      "SBP                 float64\n",
      "DBP                 float64\n",
      "BLDS                float64\n",
      "tot_chole           float64\n",
      "HDL_chole           float64\n",
      "LDL_chole           float64\n",
      "triglyceride        float64\n",
      "hemoglobin          float64\n",
      "urine_protein       float64\n",
      "serum_creatinine    float64\n",
      "SGOT_AST            float64\n",
      "SGOT_ALT            float64\n",
      "gamma_GTP           float64\n",
      "SMK_stat_type_cd    float64\n",
      "DRK_YN               object\n",
      "dtype: object\n"
     ]
    }
   ],
   "source": [
    "data = pd.read_csv('datasets/smoking_drinking_dataset.csv')\n",
    "print(data.head())\n",
    "print(data.dtypes)\n",
    "\n",
    "# The sex is either female or male.\n",
    "# Male = 1\n",
    "# Female = 0\n",
    "\n"
   ]
  }
 ],
 "metadata": {
  "kernelspec": {
   "display_name": "Python 3",
   "language": "python",
   "name": "python3"
  },
  "language_info": {
   "codemirror_mode": {
    "name": "ipython",
    "version": 3
   },
   "file_extension": ".py",
   "mimetype": "text/x-python",
   "name": "python",
   "nbconvert_exporter": "python",
   "pygments_lexer": "ipython3",
   "version": "3.10.12"
  }
 },
 "nbformat": 4,
 "nbformat_minor": 2
}
