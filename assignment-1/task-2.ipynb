{
 "cells": [
  {
   "cell_type": "code",
   "execution_count": 13,
   "metadata": {},
   "outputs": [],
   "source": [
    "import pandas as pd\n",
    "import numpy as np\n",
    "import matplotlib.pyplot as plt"
   ]
  },
  {
   "cell_type": "code",
   "execution_count": 18,
   "metadata": {},
   "outputs": [
    {
     "name": "stdout",
     "output_type": "stream",
     "text": [
      "Area          0\n",
      "Item          0\n",
      "Element       0\n",
      "Year          0\n",
      "Unit          0\n",
      "Value      2264\n",
      "dtype: int64\n",
      "1.883621478609581\n"
     ]
    }
   ],
   "source": [
    "data = pd.read_csv('datasets/food-bank/live1.csv')\n",
    "# print(data.head())\n",
    "# print(data.dtypes)\n",
    "\n",
    "null_values = data.isnull()\n",
    "null_count = null_values.sum()\n",
    "total_values = data.count()\n",
    "print(null_count)\n",
    "\n",
    "percent_null = data['Value'].isnull().sum() / data['Value'].count() * 100\n",
    "print(percent_null)"
   ]
  },
  {
   "cell_type": "code",
   "execution_count": 27,
   "metadata": {},
   "outputs": [
    {
     "name": "stdout",
     "output_type": "stream",
     "text": [
      "        Area                    Item Element  Year       Unit   Value\n",
      "823  Albania                   Ducks  Stocks  2004  1000 Head   527.0\n",
      "824  Albania                   Ducks  Stocks  2005  1000 Head   528.0\n",
      "825  Albania                   Ducks  Stocks  2006  1000 Head   500.0\n",
      "826  Albania                   Ducks  Stocks  2007  1000 Head   800.0\n",
      "827  Albania                   Ducks  Stocks  2008  1000 Head  1000.0\n",
      "828  Albania                   Ducks  Stocks  2009  1000 Head  1100.0\n",
      "829  Albania                   Ducks  Stocks  2010  1000 Head  1100.0\n",
      "830  Albania                   Ducks  Stocks  2011  1000 Head  1000.0\n",
      "873  Albania  Geese and guinea fowls  Stocks  1994  1000 Head   240.0\n",
      "874  Albania  Geese and guinea fowls  Stocks  1995  1000 Head   240.0\n",
      "875  Albania  Geese and guinea fowls  Stocks  1996  1000 Head   244.0\n",
      "876  Albania  Geese and guinea fowls  Stocks  1997  1000 Head   225.0\n",
      "877  Albania  Geese and guinea fowls  Stocks  1998  1000 Head   205.0\n",
      "878  Albania  Geese and guinea fowls  Stocks  1999  1000 Head   200.0\n",
      "879  Albania  Geese and guinea fowls  Stocks  2000  1000 Head   250.0\n",
      "880  Albania  Geese and guinea fowls  Stocks  2001  1000 Head   280.0\n",
      "881  Albania  Geese and guinea fowls  Stocks  2002  1000 Head   275.0\n",
      "882  Albania  Geese and guinea fowls  Stocks  2003  1000 Head   270.0\n",
      "883  Albania  Geese and guinea fowls  Stocks  2004  1000 Head   352.0\n",
      "884  Albania  Geese and guinea fowls  Stocks  2005  1000 Head   353.0\n"
     ]
    }
   ],
   "source": [
    "dataframe_cleaned = data.dropna()\n",
    "# print(dataframe_cleaned)\n",
    "print(data[823:843])\n",
    "print(dataframe_cleaned[790:810])"
   ]
  }
 ],
 "metadata": {
  "kernelspec": {
   "display_name": "venv",
   "language": "python",
   "name": "python3"
  },
  "language_info": {
   "codemirror_mode": {
    "name": "ipython",
    "version": 3
   },
   "file_extension": ".py",
   "mimetype": "text/x-python",
   "name": "python",
   "nbconvert_exporter": "python",
   "pygments_lexer": "ipython3",
   "version": "3.12.2"
  }
 },
 "nbformat": 4,
 "nbformat_minor": 2
}
