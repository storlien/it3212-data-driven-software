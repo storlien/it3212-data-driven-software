{
 "cells": [
  {
   "cell_type": "code",
   "execution_count": 1,
   "metadata": {},
   "outputs": [],
   "source": [
    "import pandas as pd"
   ]
  },
  {
   "cell_type": "markdown",
   "metadata": {},
   "source": [
    "### Task 4\n",
    "\n",
    "a) Encoding Categorical Data\n",
    "\n",
    "i: Apply label encoding or one-hot encoding to transform categorical data into numerical form."
   ]
  },
  {
   "cell_type": "code",
   "execution_count": 5,
   "metadata": {},
   "outputs": [
    {
     "name": "stdout",
     "output_type": "stream",
     "text": [
      "   sex  age  height  weight  waistline  sight_left  sight_right  hear_left  \\\n",
      "0  0.0   35     170      75       90.0         1.0          1.0        1.0   \n",
      "1  0.0   30     180      80       89.0         0.9          1.2        1.0   \n",
      "2  0.0   40     165      75       91.0         1.2          1.5        1.0   \n",
      "3  0.0   50     175      80       91.0         1.5          1.2        1.0   \n",
      "4  0.0   50     165      60       80.0         1.0          1.2        1.0   \n",
      "\n",
      "   hear_right    SBP  ...  LDL_chole  triglyceride  hemoglobin  urine_protein  \\\n",
      "0         1.0  120.0  ...      126.0          92.0        17.1            1.0   \n",
      "1         1.0  130.0  ...      148.0         121.0        15.8            1.0   \n",
      "2         1.0  120.0  ...       74.0         104.0        15.8            1.0   \n",
      "3         1.0  145.0  ...      104.0         106.0        17.6            1.0   \n",
      "4         1.0  138.0  ...      117.0         104.0        13.8            1.0   \n",
      "\n",
      "   serum_creatinine  SGOT_AST  SGOT_ALT  gamma_GTP  SMK_stat_type_cd  DRK_YN  \n",
      "0               1.0      21.0      35.0       40.0               1.0     0.0  \n",
      "1               0.9      20.0      36.0       27.0               3.0     1.0  \n",
      "2               0.9      47.0      32.0       68.0               1.0     1.0  \n",
      "3               1.1      29.0      34.0       18.0               1.0     1.0  \n",
      "4               0.8      19.0      12.0       25.0               1.0     1.0  \n",
      "\n",
      "[5 rows x 24 columns]\n"
     ]
    },
    {
     "name": "stderr",
     "output_type": "stream",
     "text": [
      "C:\\Users\\asmun\\AppData\\Local\\Temp\\ipykernel_20796\\2198927043.py:3: FutureWarning: Downcasting behavior in `replace` is deprecated and will be removed in a future version. To retain the old behavior, explicitly call `result.infer_objects(copy=False)`. To opt-in to the future behavior, set `pd.set_option('future.no_silent_downcasting', True)`\n",
      "  data[\"sex\"] = data[\"sex\"].replace({\"Male\": 0.0, \"Female\": 1.0}).infer_objects(copy=False)\n",
      "C:\\Users\\asmun\\AppData\\Local\\Temp\\ipykernel_20796\\2198927043.py:4: FutureWarning: Downcasting behavior in `replace` is deprecated and will be removed in a future version. To retain the old behavior, explicitly call `result.infer_objects(copy=False)`. To opt-in to the future behavior, set `pd.set_option('future.no_silent_downcasting', True)`\n",
      "  data[\"DRK_YN\"] = data[\"DRK_YN\"].replace({\"Y\": 0.0, \"N\": 1.0}).infer_objects(copy=False)\n"
     ]
    }
   ],
   "source": [
    "data = pd.read_csv('../datasets/smoking_driking_dataset_Ver01.csv')\n",
    "\n",
    "data[\"sex\"] = data[\"sex\"].replace({\"Male\": 0.0, \"Female\": 1.0}).infer_objects(copy=False)\n",
    "data[\"DRK_YN\"] = data[\"DRK_YN\"].replace({\"Y\": 0.0, \"N\": 1.0}).infer_objects(copy=False)\n",
    "\n",
    "print(data.head())"
   ]
  },
  {
   "cell_type": "markdown",
   "metadata": {},
   "source": [
    "b) Feature Scaling\n",
    "\n",
    "i: Apply feature scaling techniques such as normalization (Min-Max scaling) or standardization (Z-score normalization) to the dataset."
   ]
  },
  {
   "cell_type": "code",
   "execution_count": 9,
   "metadata": {},
   "outputs": [
    {
     "name": "stdout",
     "output_type": "stream",
     "text": [
      "   sex       age    height    weight  waistline  sight_left  sight_right  \\\n",
      "0  0.0  0.230769  0.666667  0.434783   0.082745    0.091837     0.091837   \n",
      "1  0.0  0.153846  0.833333  0.478261   0.081736    0.081633     0.112245   \n",
      "2  0.0  0.307692  0.583333  0.434783   0.083754    0.112245     0.142857   \n",
      "3  0.0  0.461538  0.750000  0.478261   0.083754    0.142857     0.112245   \n",
      "4  0.0  0.461538  0.583333  0.304348   0.072654    0.091837     0.112245   \n",
      "\n",
      "   hear_left  hear_right       SBP  ...  LDL_chole  triglyceride  hemoglobin  \\\n",
      "0        0.0         0.0  0.257282  ...   0.024424      0.009590    0.670833   \n",
      "1        0.0         0.0  0.305825  ...   0.028722      0.012646    0.616667   \n",
      "2        0.0         0.0  0.257282  ...   0.014263      0.010855    0.616667   \n",
      "3        0.0         0.0  0.378641  ...   0.020125      0.011065    0.691667   \n",
      "4        0.0         0.0  0.344660  ...   0.022665      0.010855    0.533333   \n",
      "\n",
      "   urine_protein  serum_creatinine  SGOT_AST  SGOT_ALT  gamma_GTP  \\\n",
      "0            0.0          0.009193  0.002000  0.004716   0.039078   \n",
      "1            0.0          0.008172  0.001900  0.004855   0.026052   \n",
      "2            0.0          0.008172  0.004601  0.004300   0.067134   \n",
      "3            0.0          0.010215  0.002801  0.004578   0.017034   \n",
      "4            0.0          0.007150  0.001800  0.001526   0.024048   \n",
      "\n",
      "   SMK_stat_type_cd  DRK_YN  \n",
      "0               0.0     0.0  \n",
      "1               1.0     1.0  \n",
      "2               0.0     1.0  \n",
      "3               0.0     1.0  \n",
      "4               0.0     1.0  \n",
      "\n",
      "[5 rows x 24 columns]\n"
     ]
    }
   ],
   "source": [
    "from sklearn.preprocessing import MinMaxScaler\n",
    "\n",
    "scaler = MinMaxScaler()\n",
    "data_scaled = scaler.fit_transform(data)\n",
    "\n",
    "data_scaled = pd.DataFrame(data_scaled, columns=data.columns)\n",
    "\n",
    "print(data_scaled.head())\n"
   ]
  }
 ],
 "metadata": {
  "kernelspec": {
   "display_name": "Python 3",
   "language": "python",
   "name": "python3"
  },
  "language_info": {
   "codemirror_mode": {
    "name": "ipython",
    "version": 3
   },
   "file_extension": ".py",
   "mimetype": "text/x-python",
   "name": "python",
   "nbconvert_exporter": "python",
   "pygments_lexer": "ipython3",
   "version": "3.11.9"
  }
 },
 "nbformat": 4,
 "nbformat_minor": 2
}
