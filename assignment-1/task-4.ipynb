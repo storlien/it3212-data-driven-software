{
 "cells": [
  {
   "cell_type": "code",
   "execution_count": 10,
   "metadata": {},
   "outputs": [],
   "source": [
    "import pandas as pd\n",
    "from sklearn.preprocessing import LabelEncoder\n"
   ]
  },
  {
   "cell_type": "markdown",
   "metadata": {},
   "source": [
    "### Task 4\n",
    "\n",
    "a) Encoding Categorical Data\n",
    "\n",
    "i: Apply label encoding or one-hot encoding to transform categorical data into numerical form."
   ]
  },
  {
   "cell_type": "code",
   "execution_count": 17,
   "metadata": {},
   "outputs": [
    {
     "name": "stdout",
     "output_type": "stream",
     "text": [
      "   sex  age  height  weight  waistline  sight_left  sight_right  hear_left  \\\n",
      "0    1   35     170      75       90.0         1.0          1.0        1.0   \n",
      "1    1   30     180      80       89.0         0.9          1.2        1.0   \n",
      "2    1   40     165      75       91.0         1.2          1.5        1.0   \n",
      "3    1   50     175      80       91.0         1.5          1.2        1.0   \n",
      "4    1   50     165      60       80.0         1.0          1.2        1.0   \n",
      "\n",
      "   hear_right    SBP  ...  DRK_YN  SMK_1.0  SMK_2.0  SMK_3.0  urine_prot_1.0  \\\n",
      "0         1.0  120.0  ...       1        1        0        0               1   \n",
      "1         1.0  130.0  ...       0        0        0        1               1   \n",
      "2         1.0  120.0  ...       0        1        0        0               1   \n",
      "3         1.0  145.0  ...       0        1        0        0               1   \n",
      "4         1.0  138.0  ...       0        1        0        0               1   \n",
      "\n",
      "   urine_prot_2.0  urine_prot_3.0  urine_prot_4.0  urine_prot_5.0  \\\n",
      "0               0               0               0               0   \n",
      "1               0               0               0               0   \n",
      "2               0               0               0               0   \n",
      "3               0               0               0               0   \n",
      "4               0               0               0               0   \n",
      "\n",
      "   urine_prot_6.0  \n",
      "0           False  \n",
      "1           False  \n",
      "2           False  \n",
      "3           False  \n",
      "4           False  \n",
      "\n",
      "[5 rows x 31 columns]\n"
     ]
    }
   ],
   "source": [
    "data = pd.read_csv('../datasets/smoking_driking_dataset_Ver01.csv')\n",
    "\n",
    "label_encoder = LabelEncoder()\n",
    "\n",
    "# One-Hot Encoding for 'SMK_stat_type_cd'\n",
    "data = pd.get_dummies(data, columns=['SMK_stat_type_cd'], prefix='SMK')\n",
    "data = pd.get_dummies(data, columns=['urine_protein'], prefix='urine_prot')\n",
    "\n",
    "data['sex'] = label_encoder.fit_transform(data['sex'])\n",
    "data['DRK_YN'] = label_encoder.fit_transform(data['DRK_YN'])\n",
    "data['SMK_1.0'] = label_encoder.fit_transform(data['SMK_1.0'])\n",
    "data['SMK_2.0'] = label_encoder.fit_transform(data['SMK_2.0'])\n",
    "data['SMK_3.0'] = label_encoder.fit_transform(data['SMK_3.0'])\n",
    "\n",
    "data['urine_prot_1.0'] = label_encoder.fit_transform(data['urine_prot_1.0'])\n",
    "data['urine_prot_2.0'] = label_encoder.fit_transform(data['urine_prot_2.0'])\n",
    "data['urine_prot_3.0'] = label_encoder.fit_transform(data['urine_prot_3.0'])\n",
    "data['urine_prot_4.0'] = label_encoder.fit_transform(data['urine_prot_4.0'])\n",
    "data['urine_prot_5.0'] = label_encoder.fit_transform(data['urine_prot_5.0'])\n",
    "data['urine_prot_6.0'] = label_encoder.fit_transform(data['urine_prot_6.0'])\n",
    "\n",
    "\n",
    "\n",
    "print(data.head())"
   ]
  },
  {
   "cell_type": "markdown",
   "metadata": {},
   "source": [
    "b) Feature Scaling\n",
    "\n",
    "i: Apply feature scaling techniques such as normalization (Min-Max scaling) or standardization (Z-score normalization) to the dataset."
   ]
  },
  {
   "cell_type": "code",
   "execution_count": 9,
   "metadata": {},
   "outputs": [
    {
     "name": "stdout",
     "output_type": "stream",
     "text": [
      "   sex       age    height    weight  waistline  sight_left  sight_right  \\\n",
      "0  0.0  0.230769  0.666667  0.434783   0.082745    0.091837     0.091837   \n",
      "1  0.0  0.153846  0.833333  0.478261   0.081736    0.081633     0.112245   \n",
      "2  0.0  0.307692  0.583333  0.434783   0.083754    0.112245     0.142857   \n",
      "3  0.0  0.461538  0.750000  0.478261   0.083754    0.142857     0.112245   \n",
      "4  0.0  0.461538  0.583333  0.304348   0.072654    0.091837     0.112245   \n",
      "\n",
      "   hear_left  hear_right       SBP  ...  LDL_chole  triglyceride  hemoglobin  \\\n",
      "0        0.0         0.0  0.257282  ...   0.024424      0.009590    0.670833   \n",
      "1        0.0         0.0  0.305825  ...   0.028722      0.012646    0.616667   \n",
      "2        0.0         0.0  0.257282  ...   0.014263      0.010855    0.616667   \n",
      "3        0.0         0.0  0.378641  ...   0.020125      0.011065    0.691667   \n",
      "4        0.0         0.0  0.344660  ...   0.022665      0.010855    0.533333   \n",
      "\n",
      "   urine_protein  serum_creatinine  SGOT_AST  SGOT_ALT  gamma_GTP  \\\n",
      "0            0.0          0.009193  0.002000  0.004716   0.039078   \n",
      "1            0.0          0.008172  0.001900  0.004855   0.026052   \n",
      "2            0.0          0.008172  0.004601  0.004300   0.067134   \n",
      "3            0.0          0.010215  0.002801  0.004578   0.017034   \n",
      "4            0.0          0.007150  0.001800  0.001526   0.024048   \n",
      "\n",
      "   SMK_stat_type_cd  DRK_YN  \n",
      "0               0.0     0.0  \n",
      "1               1.0     1.0  \n",
      "2               0.0     1.0  \n",
      "3               0.0     1.0  \n",
      "4               0.0     1.0  \n",
      "\n",
      "[5 rows x 24 columns]\n"
     ]
    }
   ],
   "source": [
    "from sklearn.preprocessing import MinMaxScaler\n",
    "\n",
    "scaler = MinMaxScaler()\n",
    "data_scaled = scaler.fit_transform(data)\n",
    "\n",
    "data_scaled = pd.DataFrame(data_scaled, columns=data.columns)\n",
    "\n",
    "print(data_scaled.head())\n"
   ]
  }
 ],
 "metadata": {
  "kernelspec": {
   "display_name": "Python 3",
   "language": "python",
   "name": "python3"
  },
  "language_info": {
   "codemirror_mode": {
    "name": "ipython",
    "version": 3
   },
   "file_extension": ".py",
   "mimetype": "text/x-python",
   "name": "python",
   "nbconvert_exporter": "python",
   "pygments_lexer": "ipython3",
   "version": "3.11.9"
  }
 },
 "nbformat": 4,
 "nbformat_minor": 2
}
