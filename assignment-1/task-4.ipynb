{
 "cells": [
  {
   "cell_type": "code",
   "execution_count": 2,
   "metadata": {},
   "outputs": [],
   "source": [
    "import pandas as pd\n",
    "from sklearn.preprocessing import LabelEncoder\n"
   ]
  },
  {
   "cell_type": "markdown",
   "metadata": {},
   "source": [
    "### Task 4\n",
    "\n",
    "a) Encoding Categorical Data\n",
    "\n",
    "i: Apply label encoding or one-hot encoding to transform categorical data into numerical form."
   ]
  },
  {
   "cell_type": "code",
   "execution_count": 19,
   "metadata": {},
   "outputs": [
    {
     "name": "stdout",
     "output_type": "stream",
     "text": [
      "\n",
      "Area Encodings:\n",
      "Value 0 represents 'Afghanistan'\n",
      "Value 1 represents 'Africa'\n",
      "Value 2 represents 'Albania'\n",
      "Value 3 represents 'Algeria'\n",
      "Value 4 represents 'Americas'\n",
      ".\n",
      "Value 240 represents 'Yugoslav SFR'\n",
      "Value 241 represents 'Zambia'\n",
      "Value 242 represents 'Zimbabwe'\n"
     ]
    }
   ],
   "source": [
    "data = pd.read_csv('../datasets/live1.csv')\n",
    "\n",
    "label_encoder_area = LabelEncoder()\n",
    "label_encoder_item = LabelEncoder()\n",
    "label_encoder_year = LabelEncoder()\n",
    "\n",
    "\n",
    "data = data.drop('Element', axis=1)\n",
    "data['Area'] = label_encoder_area.fit_transform(data['Area'])\n",
    "data['Item'] = label_encoder_item.fit_transform(data['Item'])\n",
    "data['Year'] = label_encoder_year.fit_transform(data['Year'])\n",
    "mask = data['Unit'] == '1000 Head'  \n",
    "data.loc[mask, 'Value'] = data.loc[mask, 'Value'] * 1000  \n",
    "data.loc[mask, 'Unit'] = 'Head'\n",
    "\n",
    "def display_encoded_mappings(encoder, column_name):\n",
    "    print(f\"\\n{column_name} Encodings:\")\n",
    "    for i, label in enumerate(encoder.classes_):\n",
    "        if i<5: \n",
    "            print(f\"Value {i} represents '{label}'\")\n",
    "        elif i<6:\n",
    "            print('.')\n",
    "        elif i>239:\n",
    "            print(f\"Value {i} represents '{label}'\")\n",
    "\n",
    "# Display the mappings for 'Item'\n",
    "# display_encoded_mappings(label_encoder, 'Item')\n",
    "display_encoded_mappings(label_encoder_area, 'Area')"
   ]
  },
  {
   "cell_type": "markdown",
   "metadata": {},
   "source": [
    "b) Feature Scaling\n",
    "\n",
    "i: Apply feature scaling techniques such as normalization (Min-Max scaling) or standardization (Z-score normalization) to the dataset."
   ]
  },
  {
   "cell_type": "code",
   "execution_count": 9,
   "metadata": {},
   "outputs": [
    {
     "name": "stdout",
     "output_type": "stream",
     "text": [
      "   sex       age    height    weight  waistline  sight_left  sight_right  \\\n",
      "0  0.0  0.230769  0.666667  0.434783   0.082745    0.091837     0.091837   \n",
      "1  0.0  0.153846  0.833333  0.478261   0.081736    0.081633     0.112245   \n",
      "2  0.0  0.307692  0.583333  0.434783   0.083754    0.112245     0.142857   \n",
      "3  0.0  0.461538  0.750000  0.478261   0.083754    0.142857     0.112245   \n",
      "4  0.0  0.461538  0.583333  0.304348   0.072654    0.091837     0.112245   \n",
      "\n",
      "   hear_left  hear_right       SBP  ...  LDL_chole  triglyceride  hemoglobin  \\\n",
      "0        0.0         0.0  0.257282  ...   0.024424      0.009590    0.670833   \n",
      "1        0.0         0.0  0.305825  ...   0.028722      0.012646    0.616667   \n",
      "2        0.0         0.0  0.257282  ...   0.014263      0.010855    0.616667   \n",
      "3        0.0         0.0  0.378641  ...   0.020125      0.011065    0.691667   \n",
      "4        0.0         0.0  0.344660  ...   0.022665      0.010855    0.533333   \n",
      "\n",
      "   urine_protein  serum_creatinine  SGOT_AST  SGOT_ALT  gamma_GTP  \\\n",
      "0            0.0          0.009193  0.002000  0.004716   0.039078   \n",
      "1            0.0          0.008172  0.001900  0.004855   0.026052   \n",
      "2            0.0          0.008172  0.004601  0.004300   0.067134   \n",
      "3            0.0          0.010215  0.002801  0.004578   0.017034   \n",
      "4            0.0          0.007150  0.001800  0.001526   0.024048   \n",
      "\n",
      "   SMK_stat_type_cd  DRK_YN  \n",
      "0               0.0     0.0  \n",
      "1               1.0     1.0  \n",
      "2               0.0     1.0  \n",
      "3               0.0     1.0  \n",
      "4               0.0     1.0  \n",
      "\n",
      "[5 rows x 24 columns]\n"
     ]
    }
   ],
   "source": [
    "from sklearn.preprocessing import MinMaxScaler\n",
    "\n",
    "scaler = MinMaxScaler()\n",
    "data_scaled = scaler.fit_transform(data)\n",
    "\n",
    "data_scaled = pd.DataFrame(data_scaled, columns=data.columns)\n",
    "\n",
    "print(data_scaled.head())\n"
   ]
  }
 ],
 "metadata": {
  "kernelspec": {
   "display_name": "Python 3",
   "language": "python",
   "name": "python3"
  },
  "language_info": {
   "codemirror_mode": {
    "name": "ipython",
    "version": 3
   },
   "file_extension": ".py",
   "mimetype": "text/x-python",
   "name": "python",
   "nbconvert_exporter": "python",
   "pygments_lexer": "ipython3",
   "version": "3.11.9"
  }
 },
 "nbformat": 4,
 "nbformat_minor": 2
}
