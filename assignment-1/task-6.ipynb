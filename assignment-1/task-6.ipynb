{
 "cells": [
  {
   "cell_type": "markdown",
   "metadata": {},
   "source": [
    "### Task 6\n",
    "\n",
    "Apply dimensionality reduction techniques such as Principal\n",
    "Component Analysis (PCA)\n",
    "\n",
    "I suppose \"sight\" and \"hearing\" can be dropped in the smoking_drinking_dataset based on the low relevance and standard deviation "
   ]
  },
  {
   "cell_type": "code",
   "execution_count": 1,
   "metadata": {},
   "outputs": [],
   "source": [
    "import pandas as pd\n",
    "import numpy as np\n",
    "from sklearn.model_selection import train_test_split\n",
    "from sklearn.preprocessing import StandardScaler\n",
    "from sklearn.decomposition import PCA\n",
    "from sklearn.metrics import classification_report, accuracy_score\n",
    "from sklearn.linear_model import LogisticRegression"
   ]
  },
  {
   "cell_type": "code",
   "execution_count": 3,
   "metadata": {},
   "outputs": [],
   "source": [
    "data = pd.read_csv('./datasets/smoking_drinking_dataset.csv')"
   ]
  },
  {
   "cell_type": "code",
   "execution_count": 4,
   "metadata": {},
   "outputs": [
    {
     "name": "stderr",
     "output_type": "stream",
     "text": [
      "/var/folders/qp/_510d85j5x90h0mp91kyvxxh0000gn/T/ipykernel_39119/1122892368.py:1: FutureWarning: Downcasting behavior in `replace` is deprecated and will be removed in a future version. To retain the old behavior, explicitly call `result.infer_objects(copy=False)`. To opt-in to the future behavior, set `pd.set_option('future.no_silent_downcasting', True)`\n",
      "  data['sex'] = data['sex'].replace({'Male': 1, 'Female': 0})\n",
      "/var/folders/qp/_510d85j5x90h0mp91kyvxxh0000gn/T/ipykernel_39119/1122892368.py:2: FutureWarning: Downcasting behavior in `replace` is deprecated and will be removed in a future version. To retain the old behavior, explicitly call `result.infer_objects(copy=False)`. To opt-in to the future behavior, set `pd.set_option('future.no_silent_downcasting', True)`\n",
      "  data['DRK_YN'] = data['DRK_YN'].replace({'Y': 1, 'N': 0})\n"
     ]
    },
    {
     "name": "stdout",
     "output_type": "stream",
     "text": [
      "Logistic Regression Model without PCA - Accuracy: 0.7248549957129168\n",
      "Logistic Regression Model without PCA - Classification Report:\n",
      "               precision    recall  f1-score   support\n",
      "\n",
      "           0       0.72      0.73      0.73     99595\n",
      "           1       0.73      0.72      0.72     98675\n",
      "\n",
      "    accuracy                           0.72    198270\n",
      "   macro avg       0.72      0.72      0.72    198270\n",
      "weighted avg       0.72      0.72      0.72    198270\n",
      "\n",
      "Logistic Regression Model with PCA - Accuracy: 0.6901699702425985\n",
      "Logistic Regression Model with PCA - Classification Report:\n",
      "               precision    recall  f1-score   support\n",
      "\n",
      "           0       0.69      0.70      0.69     99595\n",
      "           1       0.69      0.68      0.69     98675\n",
      "\n",
      "    accuracy                           0.69    198270\n",
      "   macro avg       0.69      0.69      0.69    198270\n",
      "weighted avg       0.69      0.69      0.69    198270\n",
      "\n",
      "Number of components retained with PCA: 2\n"
     ]
    }
   ],
   "source": [
    "data['sex'] = data['sex'].replace({'Male': 1, 'Female': 0})\n",
    "data['DRK_YN'] = data['DRK_YN'].replace({'Y': 1, 'N': 0})\n",
    "\n",
    "features = data.drop(['DRK_YN'], axis=1)  \n",
    "target = data['DRK_YN'] \n",
    "\n",
    "X_train, X_test, y_train, y_test = train_test_split(features, target, test_size=0.2, random_state=42)\n",
    "\n",
    "# Standardize the data\n",
    "scaler = StandardScaler()\n",
    "X_train_scaled = scaler.fit_transform(X_train)\n",
    "X_test_scaled = scaler.transform(X_test)\n",
    "\n",
    "# --- Model Without PCA ---\n",
    "model_no_pca = LogisticRegression(random_state=42, max_iter=500)\n",
    "model_no_pca.fit(X_train_scaled, y_train)\n",
    "y_pred_no_pca = model_no_pca.predict(X_test_scaled)\n",
    "\n",
    "print(\"Logistic Regression Model without PCA - Accuracy:\", accuracy_score(y_test, y_pred_no_pca))\n",
    "print(\"Logistic Regression Model without PCA - Classification Report:\\n\", classification_report(y_test, y_pred_no_pca))\n",
    "\n",
    "# --- Model With PCA ---\n",
    "pca = PCA(n_components=2, random_state=42)\n",
    "# pca = PCA(n_components=0.95, random_state=42)\n",
    "X_train_pca = pca.fit_transform(X_train_scaled)\n",
    "X_test_pca = pca.transform(X_test_scaled)\n",
    "\n",
    "model_pca = LogisticRegression(random_state=42, max_iter=500)\n",
    "model_pca.fit(X_train_pca, y_train)\n",
    "y_pred_pca = model_pca.predict(X_test_pca)\n",
    "\n",
    "# Model with PCA - Results\n",
    "print(\"Logistic Regression Model with PCA - Accuracy:\", accuracy_score(y_test, y_pred_pca))\n",
    "print(\"Logistic Regression Model with PCA - Classification Report:\\n\", classification_report(y_test, y_pred_pca))\n",
    "\n",
    "print(f\"Number of components retained with PCA: {pca.n_components_}\")"
   ]
  }
 ],
 "metadata": {
  "kernelspec": {
   "display_name": "Python 3",
   "language": "python",
   "name": "python3"
  },
  "language_info": {
   "codemirror_mode": {
    "name": "ipython",
    "version": 3
   },
   "file_extension": ".py",
   "mimetype": "text/x-python",
   "name": "python",
   "nbconvert_exporter": "python",
   "pygments_lexer": "ipython3",
   "version": "3.11.5"
  }
 },
 "nbformat": 4,
 "nbformat_minor": 2
}
