{
 "cells": [
  {
   "cell_type": "markdown",
   "metadata": {},
   "source": [
    "### Task 6\n",
    "\n",
    "Apply dimensionality reduction techniques such as Principal\n",
    "Component Analysis (PCA)\n",
    "\n",
    "I suppose \"sight\" and \"hearing\" can be dropped in the smoking_drinking_dataset based on the low relevance and standard deviation "
   ]
  },
  {
   "cell_type": "code",
   "execution_count": null,
   "metadata": {},
   "outputs": [],
   "source": []
  }
 ],
 "metadata": {
  "language_info": {
   "name": "python"
  }
 },
 "nbformat": 4,
 "nbformat_minor": 2
}
