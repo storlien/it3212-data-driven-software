{
 "cells": [
  {
   "cell_type": "code",
   "execution_count": 2,
   "metadata": {},
   "outputs": [],
   "source": [
    "import pandas as pd\n",
    "from sklearn.ensemble import IsolationForest"
   ]
  },
  {
   "cell_type": "markdown",
   "metadata": {},
   "source": [
    "### Task 3\n",
    "\n",
    "a) Detect outliers using methods such as the IQR method or Z-score."
   ]
  },
  {
   "cell_type": "code",
   "execution_count": 5,
   "metadata": {},
   "outputs": [
    {
     "name": "stderr",
     "output_type": "stream",
     "text": [
      "/tmp/ipykernel_13383/3268974233.py:3: FutureWarning: Downcasting behavior in `replace` is deprecated and will be removed in a future version. To retain the old behavior, explicitly call `result.infer_objects(copy=False)`. To opt-in to the future behavior, set `pd.set_option('future.no_silent_downcasting', True)`\n",
      "  data[\"sex\"] = data[\"sex\"].replace({\"Male\": True, \"Female\": False}).infer_objects(copy=False)\n",
      "/tmp/ipykernel_13383/3268974233.py:4: FutureWarning: Downcasting behavior in `replace` is deprecated and will be removed in a future version. To retain the old behavior, explicitly call `result.infer_objects(copy=False)`. To opt-in to the future behavior, set `pd.set_option('future.no_silent_downcasting', True)`\n",
      "  data[\"DRK_YN\"] = data[\"DRK_YN\"].replace({\"Y\": True, \"N\": False}).infer_objects(copy=False)\n"
     ]
    },
    {
     "name": "stdout",
     "output_type": "stream",
     "text": [
      "Anomalies: 49568\n",
      "Inliers: 941778\n",
      "Anomaly percentage: 0.05\n"
     ]
    },
    {
     "name": "stderr",
     "output_type": "stream",
     "text": [
      "/tmp/ipykernel_13383/3268974233.py:12: FutureWarning: Downcasting behavior in `replace` is deprecated and will be removed in a future version. To retain the old behavior, explicitly call `result.infer_objects(copy=False)`. To opt-in to the future behavior, set `pd.set_option('future.no_silent_downcasting', True)`\n",
      "  data[\"anomaly\"] = data[\"anomaly\"].replace({1: False, -1: True}) # Outlier = -1, Inlier = 1\n"
     ]
    }
   ],
   "source": [
    "data = pd.read_csv(\"datasets/smoking_drinking_dataset.csv\")\n",
    "\n",
    "data[\"sex\"] = data[\"sex\"].replace({\"Male\": True, \"Female\": False}).infer_objects(copy=False)\n",
    "data[\"DRK_YN\"] = data[\"DRK_YN\"].replace({\"Y\": True, \"N\": False}).infer_objects(copy=False)\n",
    "\n",
    "Iforest = IsolationForest(contamination=0.05, random_state=1111)\n",
    "\n",
    "Iforest.fit(data)\n",
    "\n",
    "data[\"anomaly_score\"] = Iforest.decision_function(data)\n",
    "data[\"anomaly\"] = Iforest.predict(data.drop(\"anomaly_score\", axis=1))\n",
    "data[\"anomaly\"] = data[\"anomaly\"].replace({1: False, -1: True}) # Outlier = -1, Inlier = 1\n",
    "\n",
    "num_anomalies = len(data[data[\"anomaly\"] == True])\n",
    "num_inliers = len(data[data[\"anomaly\"] == False])\n",
    "anomalies = data[data[\"anomaly\"] == 1]\n",
    "\n",
    "print(\"Anomalies:\", num_anomalies)\n",
    "print(\"Inliers:\", num_inliers)\n",
    "print(f\"Anomaly percentage: {num_anomalies / (num_anomalies + num_inliers):.2f}\")"
   ]
  }
 ],
 "metadata": {
  "kernelspec": {
   "display_name": "Python 3",
   "language": "python",
   "name": "python3"
  },
  "language_info": {
   "codemirror_mode": {
    "name": "ipython",
    "version": 3
   },
   "file_extension": ".py",
   "mimetype": "text/x-python",
   "name": "python",
   "nbconvert_exporter": "python",
   "pygments_lexer": "ipython3",
   "version": "3.10.12"
  }
 },
 "nbformat": 4,
 "nbformat_minor": 2
}
